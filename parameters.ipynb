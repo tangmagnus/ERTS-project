{
 "cells": [
  {
   "cell_type": "code",
   "execution_count": 1,
   "metadata": {},
   "outputs": [],
   "source": [
    "\n",
    "import numpy as np \n",
    "import pandas as pd\n",
    "import torch\n",
    "import torch.nn as nn\n",
    "import torch.nn.functional as F\n",
    "import torch.optim as optim\n",
    "import torchvision.transforms as transforms\n",
    "import cv2\n",
    "import random \n",
    "import os, os.path\n",
    "import matplotlib.pyplot as plt                                     \n",
    "import imutils                                                      #contours\n",
    "\n",
    "from torch.utils.data import Dataset, DataLoader, random_split\n",
    "from torchinfo import summary                                       #network description \n",
    "from sympy import *                                                 #symbolic mathematics\n"
   ]
  },
  {
   "cell_type": "code",
   "execution_count": 18,
   "metadata": {},
   "outputs": [
    {
     "name": "stdout",
     "output_type": "stream",
     "text": [
      "784\n"
     ]
    },
    {
     "ename": "TypeError",
     "evalue": "len() of a 0-d tensor",
     "output_type": "error",
     "traceback": [
      "\u001b[1;31m---------------------------------------------------------------------------\u001b[0m",
      "\u001b[1;31mTypeError\u001b[0m                                 Traceback (most recent call last)",
      "Cell \u001b[1;32mIn [18], line 21\u001b[0m\n\u001b[0;32m     19\u001b[0m \u001b[39m#get parameters \u001b[39;00m\n\u001b[0;32m     20\u001b[0m \u001b[39mfor\u001b[39;00m name, params \u001b[39min\u001b[39;00m model\u001b[39m.\u001b[39mnamed_parameters():\n\u001b[1;32m---> 21\u001b[0m   \u001b[39mprint\u001b[39m(\u001b[39mlen\u001b[39;49m(params[\u001b[39m3\u001b[39;49m]))\n\u001b[0;32m     22\u001b[0m   np\u001b[39m.\u001b[39msavetxt(name \u001b[39m+\u001b[39m \u001b[39m\"\u001b[39m\u001b[39m.txt\u001b[39m\u001b[39m\"\u001b[39m, params\u001b[39m.\u001b[39mdetach()\u001b[39m.\u001b[39mnumpy(), fmt\u001b[39m=\u001b[39m\u001b[39m\"\u001b[39m\u001b[39m%s\u001b[39;00m\u001b[39m\"\u001b[39m)\n",
      "File \u001b[1;32mc:\\Users\\emilh\\anaconda3\\envs\\dl\\lib\\site-packages\\torch\\_tensor.py:705\u001b[0m, in \u001b[0;36mTensor.__len__\u001b[1;34m(self)\u001b[0m\n\u001b[0;32m    703\u001b[0m     \u001b[39mreturn\u001b[39;00m handle_torch_function(Tensor\u001b[39m.\u001b[39m\u001b[39m__len__\u001b[39m, (\u001b[39mself\u001b[39m,), \u001b[39mself\u001b[39m)\n\u001b[0;32m    704\u001b[0m \u001b[39mif\u001b[39;00m \u001b[39mself\u001b[39m\u001b[39m.\u001b[39mdim() \u001b[39m==\u001b[39m \u001b[39m0\u001b[39m:\n\u001b[1;32m--> 705\u001b[0m     \u001b[39mraise\u001b[39;00m \u001b[39mTypeError\u001b[39;00m(\u001b[39m\"\u001b[39m\u001b[39mlen() of a 0-d tensor\u001b[39m\u001b[39m\"\u001b[39m)\n\u001b[0;32m    706\u001b[0m \u001b[39mif\u001b[39;00m torch\u001b[39m.\u001b[39m_C\u001b[39m.\u001b[39m_get_tracing_state():\n\u001b[0;32m    707\u001b[0m     warnings\u001b[39m.\u001b[39mwarn(\u001b[39m'\u001b[39m\u001b[39mUsing len to get tensor shape might cause the trace to be incorrect. \u001b[39m\u001b[39m'\u001b[39m\n\u001b[0;32m    708\u001b[0m                   \u001b[39m'\u001b[39m\u001b[39mRecommended usage would be tensor.shape[0]. \u001b[39m\u001b[39m'\u001b[39m\n\u001b[0;32m    709\u001b[0m                   \u001b[39m'\u001b[39m\u001b[39mPassing a tensor of different shape might lead to errors or silently give \u001b[39m\u001b[39m'\u001b[39m\n\u001b[0;32m    710\u001b[0m                   \u001b[39m'\u001b[39m\u001b[39mincorrect results.\u001b[39m\u001b[39m'\u001b[39m, category\u001b[39m=\u001b[39mtorch\u001b[39m.\u001b[39mjit\u001b[39m.\u001b[39mTracerWarning, stacklevel\u001b[39m=\u001b[39m\u001b[39m2\u001b[39m)\n",
      "\u001b[1;31mTypeError\u001b[0m: len() of a 0-d tensor"
     ]
    }
   ],
   "source": [
    "class Student(nn.Module):\n",
    "  def __init__(self, input_size, num_classes):\n",
    "    super(Student, self).__init__()\n",
    "    self.fc1 = nn.Linear(input_size, 30)\n",
    "    self.fc2 = nn.Linear(30, num_classes)\n",
    "\n",
    "  def forward(self, x):\n",
    "    x = x.view(-1, 784)\n",
    "    x = self.fc1(x)\n",
    "    x = F.relu(x)\n",
    "    x = self.fc2(x)\n",
    "    return x\n",
    "\n",
    "\n",
    "model = Student(input_size=784, num_classes=18)\n",
    "model.load_state_dict(torch.load(\"model_new_student.pth\"))\n",
    "\n",
    "\n",
    "#get parameters \n",
    "for name, params in model.named_parameters()\n",
    "  np.savetxt(name + \".txt\", params.detach().numpy(), fmt=\"%s\")\n",
    "\n",
    "\n"
   ]
  }
 ],
 "metadata": {
  "kernelspec": {
   "display_name": "dl",
   "language": "python",
   "name": "python3"
  },
  "language_info": {
   "codemirror_mode": {
    "name": "ipython",
    "version": 3
   },
   "file_extension": ".py",
   "mimetype": "text/x-python",
   "name": "python",
   "nbconvert_exporter": "python",
   "pygments_lexer": "ipython3",
   "version": "3.10.6"
  },
  "orig_nbformat": 4,
  "vscode": {
   "interpreter": {
    "hash": "6e0728a1fe41b70b495a96647691d2d6a1572e2f3ecf1c75a6c3aeada6263425"
   }
  }
 },
 "nbformat": 4,
 "nbformat_minor": 2
}
