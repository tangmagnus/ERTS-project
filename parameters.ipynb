{
 "cells": [
  {
   "cell_type": "code",
   "execution_count": 21,
   "metadata": {},
   "outputs": [],
   "source": [
    "\n",
    "import numpy as np \n",
    "import pandas as pd\n",
    "import torch\n",
    "import torch.nn as nn\n",
    "import torch.nn.functional as F\n",
    "import torch.optim as optim\n",
    "import torchvision.transforms as transforms\n",
    "import cv2\n",
    "import random \n",
    "import os, os.path\n",
    "import matplotlib.pyplot as plt                                     \n",
    "import imutils                                                      #contours\n",
    "\n",
    "from torch.utils.data import Dataset, DataLoader, random_split\n",
    "from torchinfo import summary                                       #network description \n",
    "from sympy import *                                                 #symbolic mathematics\n"
   ]
  },
  {
   "cell_type": "code",
   "execution_count": 30,
   "metadata": {},
   "outputs": [],
   "source": [
    "class Student(nn.Module):\n",
    "  def __init__(self, input_size, num_classes):\n",
    "    super(Student, self).__init__()\n",
    "    self.fc1 = nn.Linear(input_size, 30)\n",
    "    self.fc2 = nn.Linear(30, num_classes)\n",
    "\n",
    "  def forward(self, x):\n",
    "    x = x.view(-1, 784)\n",
    "    x = self.fc1(x)\n",
    "    x = F.relu(x)\n",
    "    x = self.fc2(x)\n",
    "    return x\n",
    "\n",
    "\n",
    "model = Student(input_size=784, num_classes=18)\n",
    "model.load_state_dict(torch.load(\"model_new_student.pth\"))\n",
    "\n",
    "\n",
    "#get parameters \n",
    "for name, params in model.named_parameters():\n",
    "  np.savetxt(name + \".txt\", params.detach().numpy(), fmt=\"%s\")\n",
    "\n",
    "\n",
    "\n",
    "file = open(\"fc2.weight.txt\")\n",
    "output = open(\"fc2_weights.txt\", \"w\")\n",
    "\n",
    "for i in file:\n",
    "    output.write(i.replace(\" \", \",\"))\n",
    "\n",
    "file.close()\n",
    "output.close()\n",
    "\n"
   ]
  }
 ],
 "metadata": {
  "kernelspec": {
   "display_name": "dl",
   "language": "python",
   "name": "python3"
  },
  "language_info": {
   "codemirror_mode": {
    "name": "ipython",
    "version": 3
   },
   "file_extension": ".py",
   "mimetype": "text/x-python",
   "name": "python",
   "nbconvert_exporter": "python",
   "pygments_lexer": "ipython3",
   "version": "3.10.6"
  },
  "orig_nbformat": 4,
  "vscode": {
   "interpreter": {
    "hash": "6e0728a1fe41b70b495a96647691d2d6a1572e2f3ecf1c75a6c3aeada6263425"
   }
  }
 },
 "nbformat": 4,
 "nbformat_minor": 2
}
